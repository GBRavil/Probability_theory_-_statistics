{
 "cells": [
  {
   "cell_type": "code",
   "execution_count": null,
   "id": "57a18cce",
   "metadata": {},
   "outputs": [],
   "source": [
    "# 2) На входной двери подъезда установлен кодовый замок, содержащий десять кнопок с цифрами от 0 до 9. \n",
    "# Код содержит три цифры, которые нужно нажать одновременно. \n",
    "# Какова вероятность того, что человек, не знающий код, откроет дверь с первой попытки?"
   ]
  },
  {
   "cell_type": "code",
   "execution_count": 4,
   "id": "f83fe20e",
   "metadata": {},
   "outputs": [],
   "source": [
    "from math import factorial\n",
    "def combinations(n, k):\n",
    "    return int(factorial(n) / (factorial(k) * factorial(n - k))) "
   ]
  },
  {
   "cell_type": "code",
   "execution_count": 5,
   "id": "1b04322f",
   "metadata": {},
   "outputs": [
    {
     "name": "stdout",
     "output_type": "stream",
     "text": [
      "P(открыть с первой попытки) = 0.0083\n"
     ]
    }
   ],
   "source": [
    "P = 1/combinations(10,3)\n",
    "print(f'P(открыть с первой попытки) = {round(P,4)}')"
   ]
  }
 ],
 "metadata": {
  "kernelspec": {
   "display_name": "Python 3 (ipykernel)",
   "language": "python",
   "name": "python3"
  },
  "language_info": {
   "codemirror_mode": {
    "name": "ipython",
    "version": 3
   },
   "file_extension": ".py",
   "mimetype": "text/x-python",
   "name": "python",
   "nbconvert_exporter": "python",
   "pygments_lexer": "ipython3",
   "version": "3.9.13"
  }
 },
 "nbformat": 4,
 "nbformat_minor": 5
}
